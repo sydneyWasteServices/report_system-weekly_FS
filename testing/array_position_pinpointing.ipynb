{
 "cells": [
  {
   "cell_type": "code",
   "execution_count": 23,
   "metadata": {},
   "outputs": [],
   "source": [
    "import xlwings as xw\n",
    "import pandas as pd\n",
    "import numpy as np"
   ]
  },
  {
   "cell_type": "code",
   "execution_count": 33,
   "metadata": {},
   "outputs": [
    {
     "name": "stdout",
     "output_type": "stream",
     "text": [
      "{1.0: <Range [Book1]Sheet1!$A$1>, 2.0: <Range [Book1]Sheet1!$B$1>, 3.0: <Range [Book1]Sheet1!$C$1>, 4.0: <Range [Book1]Sheet1!$D$1>, 5.0: <Range [Book1]Sheet1!$E$1>}\n"
     ]
    }
   ],
   "source": [
    "wb = xw.Book()\n",
    "data = [1,2,3,4,5]\n",
    "a1_cell = wb.sheets[0].range('A1')\n",
    "a1_cell.value = data\n",
    "unknown = a1_cell.shape\n",
    "# .end('right')\n",
    "# xw.RangeColumns(unknown)\n",
    "d1_cell = wb.sheets[0].range('D6')\n",
    "d1_cell.value = data \n",
    "\n",
    "wb.sheets[0].used_range\n",
    "ha = wb.sheets[0].range('F6').has_array\n",
    "\n",
    "dict1 = {}\n",
    "\n",
    "def list_routes_cells_position(myDict : dict, target_cell : object):\n",
    "    if target_cell.value is None:\n",
    "        return myDict\n",
    "    else:\n",
    "        myDict[target_cell.value] = target_cell\n",
    "        new_target_cell = target_cell.offset(column_offset=1)\n",
    "        return list_routes_cells_position(myDict, new_target_cell)\n",
    "\n",
    "dicts = list_routes_cells_position(dict1,a1_cell)\n",
    "\n",
    "print(dicts)"
   ]
  },
  {
   "cell_type": "code",
   "execution_count": 25,
   "metadata": {},
   "outputs": [],
   "source": [
    "def list_routes_cells_position(target_cell):\n",
    "    if target_cell.value is None:\n",
    "        return target_cell\n",
    "    else:\n",
    "        print(target_cell)\n",
    "        print(target_cell.value)\n",
    "        print()\n",
    "        new_target_cell = target_cell.offset(column_offset=1)\n",
    "        return list_routes_cells_position(new_target_cell)"
   ]
  },
  {
   "cell_type": "code",
   "execution_count": 26,
   "metadata": {},
   "outputs": [
    {
     "name": "stdout",
     "output_type": "stream",
     "text": [
      "<Range [Book3]Sheet1!$A$1>\n",
      "1.0\n",
      "\n"
     ]
    },
    {
     "ename": "NameError",
     "evalue": "name 'self' is not defined",
     "output_type": "error",
     "traceback": [
      "\u001b[1;31m---------------------------------------------------------------------------\u001b[0m",
      "\u001b[1;31mNameError\u001b[0m                                 Traceback (most recent call last)",
      "\u001b[1;32m<ipython-input-26-fd65e7f8f061>\u001b[0m in \u001b[0;36m<module>\u001b[1;34m\u001b[0m\n\u001b[1;32m----> 1\u001b[1;33m \u001b[0mlist_routes_cells_position\u001b[0m\u001b[1;33m(\u001b[0m\u001b[0ma1_cell\u001b[0m\u001b[1;33m)\u001b[0m\u001b[1;33m\u001b[0m\u001b[1;33m\u001b[0m\u001b[0m\n\u001b[0m",
      "\u001b[1;32m<ipython-input-25-cb2296aa6456>\u001b[0m in \u001b[0;36mlist_routes_cells_position\u001b[1;34m(target_cell)\u001b[0m\n\u001b[0;32m      7\u001b[0m         \u001b[0mprint\u001b[0m\u001b[1;33m(\u001b[0m\u001b[1;33m)\u001b[0m\u001b[1;33m\u001b[0m\u001b[1;33m\u001b[0m\u001b[0m\n\u001b[0;32m      8\u001b[0m         \u001b[0mnew_target_cell\u001b[0m \u001b[1;33m=\u001b[0m \u001b[0mtarget_cell\u001b[0m\u001b[1;33m.\u001b[0m\u001b[0moffset\u001b[0m\u001b[1;33m(\u001b[0m\u001b[0mcolumn_offset\u001b[0m\u001b[1;33m=\u001b[0m\u001b[1;36m1\u001b[0m\u001b[1;33m)\u001b[0m\u001b[1;33m\u001b[0m\u001b[1;33m\u001b[0m\u001b[0m\n\u001b[1;32m----> 9\u001b[1;33m         \u001b[1;32mreturn\u001b[0m \u001b[0mself\u001b[0m\u001b[1;33m.\u001b[0m\u001b[0mcheck_empty_cell\u001b[0m\u001b[1;33m(\u001b[0m\u001b[0mnew_target_cell\u001b[0m\u001b[1;33m)\u001b[0m\u001b[1;33m\u001b[0m\u001b[1;33m\u001b[0m\u001b[0m\n\u001b[0m",
      "\u001b[1;31mNameError\u001b[0m: name 'self' is not defined"
     ]
    }
   ],
   "source": [
    "list_routes_cells_position(a1_cell)"
   ]
  },
  {
   "cell_type": "code",
   "execution_count": 44,
   "metadata": {},
   "outputs": [],
   "source": [
    "tipping_path = \"../../../ubuntuShareDrive/Datasets/tipping_monthly/Jan_2021.csv\"\n",
    "booking_path = \"../../../ubuntuShareDrive/Datasets/booking_monthly/Jan_2021.csv\"\n",
    "tipping_df = pd.read_csv(tipping_path)\n",
    "booking_df = pd.read_csv(booking_path, dtype={\n",
    "                         \"Schd Time Start\": str, \"PO\": str})\n",
    "booking_df['Route number'] = booking_df['Route number'].astype('str')\n",
    "booking_df[['Route number', 'weekday']] = booking_df['Route number'].str.split(\n",
    "    '-', 1, expand=True)"
   ]
  },
  {
   "cell_type": "code",
   "execution_count": 43,
   "metadata": {},
   "outputs": [],
   "source": [
    "class Routes_info:\n",
    "    def __init__(\n",
    "            self,\n",
    "            rev_type : str,\n",
    "            total_inc: float,\n",
    "            total_weight: float,\n",
    "            booking_price_series: object,\n",
    "            tipping_weight_series: object):\n",
    "\n",
    "        self.rev_type = rev_type\n",
    "        self.total_inc = total_inc\n",
    "        self.total_weight = total_weight\n",
    "        self.booking_price_series = booking_price_series\n",
    "        self.tipping_weight_series = tipping_weight_series"
   ]
  },
  {
   "cell_type": "code",
   "execution_count": 50,
   "metadata": {},
   "outputs": [],
   "source": [
    "series = booking_df.groupby('Route number').Price.sum()\n",
    "CARDBOARD = ['GRIMA', 'APR', 'FLP', 'HYG', 'RED', 'RL5', 'RL6', 'RL8', 'RLP', 'RLR', 'SWP']\n",
    "series = series.filter(CARDBOARD)\n",
    "r1 = Routes_info(\"testType\", 12345, 789456, series, series)"
   ]
  },
  {
   "cell_type": "code",
   "execution_count": 55,
   "metadata": {},
   "outputs": [
    {
     "data": {
      "text/plain": [
       "['GRIMA', 'APR', 'FLP', 'HYG', 'RED', 'RL5', 'RL6', 'RL8', 'RLP', 'RLR']"
      ]
     },
     "execution_count": 55,
     "metadata": {},
     "output_type": "execute_result"
    }
   ],
   "source": [
    "names = r1.booking_price_series.index\n",
    "list(names)"
   ]
  },
  {
   "cell_type": "code",
   "execution_count": 56,
   "metadata": {},
   "outputs": [
    {
     "data": {
      "text/plain": [
       "{'tom': '88'}"
      ]
     },
     "execution_count": 56,
     "metadata": {},
     "output_type": "execute_result"
    }
   ],
   "source": [
    "dict1 = {}\n",
    "key = \"tom\"\n",
    "value = \"88\"\n",
    "\n",
    "dict1[key] = value\n",
    "dict1"
   ]
  },
  {
   "cell_type": "code",
   "execution_count": 61,
   "metadata": {},
   "outputs": [
    {
     "data": {
      "text/plain": [
       "[10, 20, 30]"
      ]
     },
     "execution_count": 61,
     "metadata": {},
     "output_type": "execute_result"
    }
   ],
   "source": [
    "num = [1,2,3]\n",
    "timesRate =10\n",
    "[i * timesRate for i in num]"
   ]
  },
  {
   "cell_type": "code",
   "execution_count": 59,
   "metadata": {},
   "outputs": [
    {
     "data": {
      "text/plain": [
       "3933"
      ]
     },
     "execution_count": 59,
     "metadata": {},
     "output_type": "execute_result"
    }
   ],
   "source": []
  },
  {
   "cell_type": "code",
   "execution_count": 60,
   "metadata": {},
   "outputs": [
    {
     "data": {
      "text/plain": [
       "11933"
      ]
     },
     "execution_count": 60,
     "metadata": {},
     "output_type": "execute_result"
    }
   ],
   "source": []
  }
 ],
 "metadata": {
  "kernelspec": {
   "display_name": "Python 3",
   "language": "python",
   "name": "python3"
  },
  "language_info": {
   "codemirror_mode": {
    "name": "ipython",
    "version": 3
   },
   "file_extension": ".py",
   "mimetype": "text/x-python",
   "name": "python",
   "nbconvert_exporter": "python",
   "pygments_lexer": "ipython3",
   "version": "3.8.5"
  }
 },
 "nbformat": 4,
 "nbformat_minor": 4
}
