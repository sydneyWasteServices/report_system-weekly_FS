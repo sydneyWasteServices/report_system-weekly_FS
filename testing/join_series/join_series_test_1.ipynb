{
 "cells": [
  {
   "cell_type": "code",
   "execution_count": 2,
   "metadata": {},
   "outputs": [],
   "source": [
    "import pandas as pd\n",
    "import numpy as np"
   ]
  },
  {
   "cell_type": "code",
   "execution_count": 3,
   "metadata": {},
   "outputs": [],
   "source": [
    "booking_path = \"../../../../test_set/1week.csv\"\n",
    "tipping_path = \"../../../../test_set/1weekTipping.csv\""
   ]
  },
  {
   "cell_type": "code",
   "execution_count": 4,
   "metadata": {},
   "outputs": [],
   "source": [
    "booking_df = pd.read_csv(booking_path,dtype={\"Schd Time Start\": str, \"PO\": str})\n",
    "tipping_df = pd.read_csv(tipping_path)"
   ]
  },
  {
   "cell_type": "code",
   "execution_count": 23,
   "metadata": {},
   "outputs": [
    {
     "name": "stdout",
     "output_type": "stream",
     "text": [
      "<class 'pandas.core.frame.DataFrame'>\n",
      "RangeIndex: 10158 entries, 0 to 10157\n",
      "Data columns (total 42 columns):\n",
      " #   Column                   Non-Null Count  Dtype  \n",
      "---  ------                   --------------  -----  \n",
      " 0   Job No                   10158 non-null  float64\n",
      " 1   Date                     10158 non-null  object \n",
      " 2   Schd Time Start          547 non-null    object \n",
      " 3   Schd Time End            9517 non-null   object \n",
      " 4   Latitude                 10158 non-null  float64\n",
      " 5   Longitude                10158 non-null  float64\n",
      " 6   Customer number          10158 non-null  float64\n",
      " 7   Customer Name            10158 non-null  object \n",
      " 8   Site Name                2460 non-null   object \n",
      " 9   Address 1                10158 non-null  object \n",
      " 10  Address 2                8 non-null      object \n",
      " 11  City                     10158 non-null  object \n",
      " 12  State                    10158 non-null  object \n",
      " 13  PostCode                 10103 non-null  float64\n",
      " 14  Zone                     0 non-null      float64\n",
      " 15  Phone                    7286 non-null   object \n",
      " 16  Qty Scheduled            10158 non-null  int64  \n",
      " 17  Qty Serviced             10158 non-null  int64  \n",
      " 18  Serv Type                10158 non-null  object \n",
      " 19  Container Type           10158 non-null  object \n",
      " 20  Bin Volume               10158 non-null  float64\n",
      " 21  Status                   10158 non-null  object \n",
      " 22  Truck number             10158 non-null  object \n",
      " 23  Route number             10158 non-null  object \n",
      " 24  Generate ID              9813 non-null   object \n",
      " 25  Initial Entry Date       10158 non-null  object \n",
      " 26  Weight                   10158 non-null  float64\n",
      " 27  Prorated Weight          10158 non-null  float64\n",
      " 28  Booking Reference 1      0 non-null      float64\n",
      " 29  Booking Reference 2      0 non-null      float64\n",
      " 30  Alternate Ref No 1       0 non-null      float64\n",
      " 31  Alternate Ref No 2       0 non-null      float64\n",
      " 32  Alternate Service Ref 1  15 non-null     float64\n",
      " 33  Alternate Service Ref 2  0 non-null      float64\n",
      " 34  Notes                    3687 non-null   object \n",
      " 35  Directions               8969 non-null   object \n",
      " 36  CheckLists               0 non-null      float64\n",
      " 37  Waste Type               10158 non-null  object \n",
      " 38  Tip Site                 0 non-null      float64\n",
      " 39  Price                    10158 non-null  float64\n",
      " 40  PO                       78 non-null     object \n",
      " 41  weekday                  10158 non-null  object \n",
      "dtypes: float64(18), int64(2), object(22)\n",
      "memory usage: 3.3+ MB\n"
     ]
    }
   ],
   "source": [
    "booking_df.info()\n",
    "# booking_df['Route number'] = booking_df['Route number'].astype('str')\n",
    "# booking_df[['Route number', 'weekday']] = booking_df['Route number'].str.split('-', 1, expand=True)"
   ]
  },
  {
   "cell_type": "code",
   "execution_count": 22,
   "metadata": {},
   "outputs": [
    {
     "name": "stdout",
     "output_type": "stream",
     "text": [
      "<class 'pandas.core.frame.DataFrame'>\n",
      "RangeIndex: 926 entries, 0 to 925\n",
      "Data columns (total 22 columns):\n",
      " #   Column            Non-Null Count  Dtype  \n",
      "---  ------            --------------  -----  \n",
      " 0   Sequence No       926 non-null    int64  \n",
      " 1   Booking No        926 non-null    float64\n",
      " 2   Customer Details  741 non-null    object \n",
      " 3   Route No          926 non-null    object \n",
      " 4   Truck No          926 non-null    object \n",
      " 5   Route Date        926 non-null    object \n",
      " 6   Disposal Date     926 non-null    object \n",
      " 7   Tip Site          185 non-null    object \n",
      " 8   Tip In Time       8 non-null      object \n",
      " 9   Tip Out Time      185 non-null    object \n",
      " 10  Cost Rate         926 non-null    float64\n",
      " 11  Total Cost        926 non-null    float64\n",
      " 12  Charge Rate       926 non-null    float64\n",
      " 13  Total Charge      926 non-null    float64\n",
      " 14  Waste Type        920 non-null    object \n",
      " 15  Weight            926 non-null    float64\n",
      " 16  UOM               926 non-null    object \n",
      " 17  Docket No         183 non-null    object \n",
      " 18  Gross Weight      926 non-null    float64\n",
      " 19  Tare Weight       926 non-null    float64\n",
      " 20  Branch            443 non-null    object \n",
      " 21  weekday           926 non-null    object \n",
      "dtypes: float64(8), int64(1), object(13)\n",
      "memory usage: 159.3+ KB\n"
     ]
    }
   ],
   "source": [
    "tipping_df.info()\n",
    "# tipping_df['Route No'] = tipping_df['Route No'].astype('str')\n",
    "# tipping_df[['Route No', 'weekday']] = tipping_df['Route No'].str.split('-', 1, expand=True)"
   ]
  },
  {
   "cell_type": "code",
   "execution_count": 11,
   "metadata": {},
   "outputs": [],
   "source": [
    "TOTAL = 'total'\n",
    "GENERAL_WASTE = ['HOOK1', 'BR1', 'BR2', 'BR3', 'FL2', 'FLG', 'RL1', 'RL2', 'RL4', 'RL7', 'RL9', 'RLD', 'RLE', 'RLH', 'RLI', 'RLJ', 'RLK', 'SWG', 'AUSSKIP']\n",
    "CARDBOARD = ['GRIMA', 'APR', 'FLP', 'HYG', 'RED', 'RL5', 'RL6', 'RL8', 'RLP', 'RLR', 'SWP']\n",
    "COMINGLED = ['CBK', 'RLC', 'RLG', 'DOY']\n",
    "SUBCONTRACTED = ['SUB', 'JJT', 'ALLMED', 'BIN', 'CKG', 'CLN', 'GRACE', 'JJR', 'OWE', 'REM', 'REP', 'REQ', 'RRNW', 'RRR', 'SHR', 'SPD', 'SUE', 'URM', 'VEO', 'VEOACT', 'VTG']\n",
    "UOS = ['NEPCB', 'UOSCB', 'UOSCO', 'UOSGW', 'CMDCB', 'CMDGW', 'CUMCB', 'CUMGW', 'NEPGW']\n",
    "# 484320  .filter(items=['CBK', 'RLC', 'RLG', 'DOY'], axis=0)"
   ]
  },
  {
   "cell_type": "code",
   "execution_count": 54,
   "metadata": {},
   "outputs": [
    {
     "data": {
      "text/plain": [
       "21566.270000000004"
      ]
     },
     "execution_count": 54,
     "metadata": {},
     "output_type": "execute_result"
    }
   ],
   "source": [
    "series = booking_df.groupby('Route number').Price.sum()\n",
    "asc = series.filter(SUBCONTRACTED).sum()\n",
    "# asc.rename_axis(\"123\")\n",
    "# asc\n",
    "# asc.index\n",
    "# asc.values\n",
    "asc"
   ]
  },
  {
   "cell_type": "code",
   "execution_count": null,
   "metadata": {},
   "outputs": [],
   "source": [
    "11.5"
   ]
  },
  {
   "cell_type": "code",
   "execution_count": null,
   "metadata": {},
   "outputs": [],
   "source": []
  },
  {
   "cell_type": "code",
   "execution_count": null,
   "metadata": {},
   "outputs": [],
   "source": []
  },
  {
   "cell_type": "code",
   "execution_count": null,
   "metadata": {},
   "outputs": [],
   "source": []
  },
  {
   "cell_type": "code",
   "execution_count": null,
   "metadata": {},
   "outputs": [],
   "source": []
  },
  {
   "cell_type": "code",
   "execution_count": null,
   "metadata": {},
   "outputs": [],
   "source": []
  },
  {
   "cell_type": "code",
   "execution_count": null,
   "metadata": {},
   "outputs": [],
   "source": []
  }
 ],
 "metadata": {
  "kernelspec": {
   "display_name": "Python 3",
   "language": "python",
   "name": "python3"
  },
  "language_info": {
   "codemirror_mode": {
    "name": "ipython",
    "version": 3
   },
   "file_extension": ".py",
   "mimetype": "text/x-python",
   "name": "python",
   "nbconvert_exporter": "python",
   "pygments_lexer": "ipython3",
   "version": "3.8.5"
  }
 },
 "nbformat": 4,
 "nbformat_minor": 4
}
