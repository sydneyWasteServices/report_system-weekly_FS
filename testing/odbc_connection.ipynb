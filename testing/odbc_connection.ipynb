{
 "cells": [
  {
   "cell_type": "code",
   "execution_count": 11,
   "metadata": {
    "slideshow": {
     "slide_type": "-"
    }
   },
   "outputs": [
    {
     "name": "stdout",
     "output_type": "stream",
     "text": [
      "        \n",
      "0  30283\n"
     ]
    }
   ],
   "source": [
    "import pyodbc as odbc\n",
    "import pandas as pd\n",
    "import math\n",
    "import numpy as np\n",
    "import typing\n",
    "\n",
    "df = pd.read_csv(\"../../dataVault/Dec_20/df_test1.csv\") \n",
    "df = df.fillna(0)\n",
    "\n",
    "connStr = odbc.connect('DRIVER={ODBC Driver 11 for SQL Server};\\\n",
    "                        SERVER=SW-SRV1\\ATSSQLEXPRESS;\\\n",
    "                        DATABASE=test_db;\\\n",
    "                        Trusted_Connection=yes')\n",
    "\n",
    "cursor = connStr.cursor()\n",
    "\n",
    "insert_query = ('INSERT INTO Finance.test_db_1('\n",
    "        '[date],'\n",
    "        '[Customer_Name],'\n",
    "        '[Address],'\n",
    "        '[City],'\n",
    "        '[State],'\n",
    "        '[PostCode],'\n",
    "        '[Qty_Scheduled],'\n",
    "        '[Qty_Serviced],'\n",
    "        '[Serv_Type],'\n",
    "        '[Bin_Volume],'\n",
    "        '[Status],'\n",
    "        '[Truck_number],'\n",
    "        '[Route_number],'\n",
    "        '[Waste_Type],'\n",
    "        '[Price])'\n",
    "        'values (CONVERT(DATETIME,?,103),?,?,?,?,?,?,?,?,?,?,?,?,?,?);')\n",
    "\n",
    "row_count_query = \"SELECT count(*) FROM Finance.test_db_1;\"\n",
    "\n",
    "for index,row in df.iterrows():\n",
    "    try:\n",
    "            cursor.execute(insert_query, row['Date'],\n",
    "            row['Customer Name'],\n",
    "            row['Address 1'],\n",
    "            row['City'],\n",
    "            row['State'],\n",
    "            row['PostCode'],\n",
    "            row['Qty Scheduled'],\n",
    "            row['Qty Serviced'],\n",
    "            row['Serv Type'],\n",
    "            row['Bin Volume'],\n",
    "            row['Status'],\n",
    "            row['Truck number'],\n",
    "            row['Route number'],\n",
    "            row['Waste Type'],\n",
    "            row['Price'])\n",
    "    \n",
    "    except(e ):\n",
    "        print(f\"{index}-{row['PostCode']}-{e}\")\n",
    "        \n",
    "    connStr.commit()\n",
    "        \n",
    "total_rows  = pd.read_sql(row_count_query, connStr)\n",
    "\n",
    "cursor.close()\n",
    "connStr.close()\n",
    "\n",
    "print(total_rows)\n"
   ]
  }
 ],
 "metadata": {
  "celltoolbar": "Slideshow",
  "kernelspec": {
   "display_name": "Python 3",
   "language": "python",
   "name": "python3"
  },
  "language_info": {
   "codemirror_mode": {
    "name": "ipython",
    "version": 3
   },
   "file_extension": ".py",
   "mimetype": "text/x-python",
   "name": "python",
   "nbconvert_exporter": "python",
   "pygments_lexer": "ipython3",
   "version": "3.8.5"
  }
 },
 "nbformat": 4,
 "nbformat_minor": 4
}
