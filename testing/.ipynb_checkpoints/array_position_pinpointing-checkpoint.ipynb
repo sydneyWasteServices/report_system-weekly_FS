{
 "cells": [
  {
   "cell_type": "code",
   "execution_count": 23,
   "metadata": {},
   "outputs": [],
   "source": [
    "import xlwings as xw\n",
    "import pandas as pd\n",
    "import numpy as np"
   ]
  },
  {
   "cell_type": "code",
   "execution_count": 33,
   "metadata": {},
   "outputs": [
    {
     "name": "stdout",
     "output_type": "stream",
     "text": [
      "{1.0: <Range [Book1]Sheet1!$A$1>, 2.0: <Range [Book1]Sheet1!$B$1>, 3.0: <Range [Book1]Sheet1!$C$1>, 4.0: <Range [Book1]Sheet1!$D$1>, 5.0: <Range [Book1]Sheet1!$E$1>}\n"
     ]
    }
   ],
   "source": [
    "wb = xw.Book()\n",
    "data = [1,2,3,4,5]\n",
    "a1_cell = wb.sheets[0].range('A1')\n",
    "a1_cell.value = data\n",
    "unknown = a1_cell.shape\n",
    "# .end('right')\n",
    "# xw.RangeColumns(unknown)\n",
    "d1_cell = wb.sheets[0].range('D6')\n",
    "d1_cell.value = data \n",
    "\n",
    "wb.sheets[0].used_range\n",
    "ha = wb.sheets[0].range('F6').has_array\n",
    "\n",
    "dict1 = {}\n",
    "\n",
    "def list_routes_cells_position(myDict : dict, target_cell : object):\n",
    "    if target_cell.value is None:\n",
    "        return myDict\n",
    "    else:\n",
    "        myDict[target_cell.value] = target_cell\n",
    "        new_target_cell = target_cell.offset(column_offset=1)\n",
    "        return list_routes_cells_position(myDict, new_target_cell)\n",
    "\n",
    "dicts = list_routes_cells_position(dict1,a1_cell)\n",
    "\n",
    "print(dicts)"
   ]
  },
  {
   "cell_type": "code",
   "execution_count": 25,
   "metadata": {},
   "outputs": [],
   "source": [
    "def list_routes_cells_position(target_cell):\n",
    "    if target_cell.value is None:\n",
    "        return target_cell\n",
    "    else:\n",
    "        print(target_cell)\n",
    "        print(target_cell.value)\n",
    "        print()\n",
    "        new_target_cell = target_cell.offset(column_offset=1)\n",
    "        return list_routes_cells_position(new_target_cell)"
   ]
  },
  {
   "cell_type": "code",
   "execution_count": 26,
   "metadata": {},
   "outputs": [
    {
     "name": "stdout",
     "output_type": "stream",
     "text": [
      "<Range [Book3]Sheet1!$A$1>\n",
      "1.0\n",
      "\n"
     ]
    },
    {
     "ename": "NameError",
     "evalue": "name 'self' is not defined",
     "output_type": "error",
     "traceback": [
      "\u001b[1;31m---------------------------------------------------------------------------\u001b[0m",
      "\u001b[1;31mNameError\u001b[0m                                 Traceback (most recent call last)",
      "\u001b[1;32m<ipython-input-26-fd65e7f8f061>\u001b[0m in \u001b[0;36m<module>\u001b[1;34m\u001b[0m\n\u001b[1;32m----> 1\u001b[1;33m \u001b[0mlist_routes_cells_position\u001b[0m\u001b[1;33m(\u001b[0m\u001b[0ma1_cell\u001b[0m\u001b[1;33m)\u001b[0m\u001b[1;33m\u001b[0m\u001b[1;33m\u001b[0m\u001b[0m\n\u001b[0m",
      "\u001b[1;32m<ipython-input-25-cb2296aa6456>\u001b[0m in \u001b[0;36mlist_routes_cells_position\u001b[1;34m(target_cell)\u001b[0m\n\u001b[0;32m      7\u001b[0m         \u001b[0mprint\u001b[0m\u001b[1;33m(\u001b[0m\u001b[1;33m)\u001b[0m\u001b[1;33m\u001b[0m\u001b[1;33m\u001b[0m\u001b[0m\n\u001b[0;32m      8\u001b[0m         \u001b[0mnew_target_cell\u001b[0m \u001b[1;33m=\u001b[0m \u001b[0mtarget_cell\u001b[0m\u001b[1;33m.\u001b[0m\u001b[0moffset\u001b[0m\u001b[1;33m(\u001b[0m\u001b[0mcolumn_offset\u001b[0m\u001b[1;33m=\u001b[0m\u001b[1;36m1\u001b[0m\u001b[1;33m)\u001b[0m\u001b[1;33m\u001b[0m\u001b[1;33m\u001b[0m\u001b[0m\n\u001b[1;32m----> 9\u001b[1;33m         \u001b[1;32mreturn\u001b[0m \u001b[0mself\u001b[0m\u001b[1;33m.\u001b[0m\u001b[0mcheck_empty_cell\u001b[0m\u001b[1;33m(\u001b[0m\u001b[0mnew_target_cell\u001b[0m\u001b[1;33m)\u001b[0m\u001b[1;33m\u001b[0m\u001b[1;33m\u001b[0m\u001b[0m\n\u001b[0m",
      "\u001b[1;31mNameError\u001b[0m: name 'self' is not defined"
     ]
    }
   ],
   "source": [
    "list_routes_cells_position(a1_cell)"
   ]
  },
  {
   "cell_type": "code",
   "execution_count": null,
   "metadata": {},
   "outputs": [],
   "source": []
  },
  {
   "cell_type": "code",
   "execution_count": null,
   "metadata": {},
   "outputs": [],
   "source": []
  },
  {
   "cell_type": "code",
   "execution_count": null,
   "metadata": {},
   "outputs": [],
   "source": []
  },
  {
   "cell_type": "code",
   "execution_count": null,
   "metadata": {},
   "outputs": [],
   "source": []
  }
 ],
 "metadata": {
  "kernelspec": {
   "display_name": "Python 3",
   "language": "python",
   "name": "python3"
  },
  "language_info": {
   "codemirror_mode": {
    "name": "ipython",
    "version": 3
   },
   "file_extension": ".py",
   "mimetype": "text/x-python",
   "name": "python",
   "nbconvert_exporter": "python",
   "pygments_lexer": "ipython3",
   "version": "3.8.5"
  }
 },
 "nbformat": 4,
 "nbformat_minor": 4
}
