{
 "cells": [
  {
   "cell_type": "code",
   "execution_count": 3,
   "metadata": {},
   "outputs": [],
   "source": [
    "import os "
   ]
  },
  {
   "cell_type": "code",
   "execution_count": 13,
   "metadata": {},
   "outputs": [],
   "source": [
    "# path = \"~/D/'Run Analysis'/WEEKLY_SUMMARY_from_January_2021/January_2021/Weekly_Summary\""
   ]
  },
  {
   "cell_type": "code",
   "execution_count": 71,
   "metadata": {},
   "outputs": [
    {
     "data": {
      "text/plain": [
       "['Sample_weekly_summary.xlsx']"
      ]
     },
     "execution_count": 71,
     "metadata": {},
     "output_type": "execute_result"
    }
   ],
   "source": [
    "# oPath = os.path.abspath(path)\n",
    "# print(os.listdir(\"../../../Desktop/Run_Analysis.lnk\"))\n",
    "# path = \"C:\\\\Users\\\\hello\\\\OneDrive\\\\Desktop\\\\Shortcuts\\\\OneNote for Windows 10.lnk\"\n",
    "# print(os.listdir(\"D:\\\\'Run Analysis'\\\\WEEKLY_SUMMARY_from_January_2021\\\\January_2021\\\\Weekly_Summary\"))\n",
    "\n",
    "# os.startfile(\"../../../Desktop/Run_Analysis.lnk\")\n",
    "# print()\n",
    "\n",
    "# dirs = os.listdir(\"../../../../\\'All Users\\'\")\n",
    "\n",
    "# os.getcwd()\n",
    "os.listdir('D:\\\\Run Analysis\\\\WEEKLY_SUMMARY_from_January_2021\\\\January_2021\\\\Weekly_Summary')\n",
    "# for file in dirs:\n",
    "#    print(file)"
   ]
  },
  {
   "cell_type": "code",
   "execution_count": null,
   "metadata": {},
   "outputs": [],
   "source": []
  },
  {
   "cell_type": "code",
   "execution_count": null,
   "metadata": {},
   "outputs": [],
   "source": []
  },
  {
   "cell_type": "code",
   "execution_count": null,
   "metadata": {},
   "outputs": [],
   "source": []
  },
  {
   "cell_type": "code",
   "execution_count": null,
   "metadata": {},
   "outputs": [],
   "source": []
  },
  {
   "cell_type": "code",
   "execution_count": null,
   "metadata": {},
   "outputs": [],
   "source": []
  },
  {
   "cell_type": "code",
   "execution_count": null,
   "metadata": {},
   "outputs": [],
   "source": []
  }
 ],
 "metadata": {
  "kernelspec": {
   "display_name": "Python 3",
   "language": "python",
   "name": "python3"
  },
  "language_info": {
   "codemirror_mode": {
    "name": "ipython",
    "version": 3
   },
   "file_extension": ".py",
   "mimetype": "text/x-python",
   "name": "python",
   "nbconvert_exporter": "python",
   "pygments_lexer": "ipython3",
   "version": "3.8.5"
  }
 },
 "nbformat": 4,
 "nbformat_minor": 4
}
