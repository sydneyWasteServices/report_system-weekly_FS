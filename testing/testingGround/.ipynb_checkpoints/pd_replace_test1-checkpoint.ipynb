{
 "cells": [
  {
   "cell_type": "code",
   "execution_count": 11,
   "metadata": {},
   "outputs": [
    {
     "name": "stdout",
     "output_type": "stream",
     "text": [
      "          Date                   Customer Name               Address 1  \\\n",
      "0   22/12/2020              Compounded Pty Ltd  Unit25/56 O'Riordan St   \n",
      "1   22/12/2020       Lonergan Research Pty Ltd         263 Clarence St   \n",
      "2   22/12/2020                     MLH Pty Ltd         54 MacArthur St   \n",
      "3   22/12/2020                     Sign Up Now      3/3 Kelso Crescent   \n",
      "4   22/12/2020                       Suby Tech           30 Antoine St   \n",
      "5   22/12/2020  WasteSpec - 20Twenty Marketing          102 Station Rd   \n",
      "6   22/12/2020  WasteSpec - 20Twenty Marketing          102 Station Rd   \n",
      "7   22/12/2020  WasteSpec - 20Twenty Marketing          102 Station Rd   \n",
      "8   22/12/2020           Kian Fui Albert Chong             309 Pitt St   \n",
      "9   22/12/2020    Allstop Fire Systems Pty Ltd        37-39 Roberts Rd   \n",
      "10  22/12/2020    Allstop Fire Systems Pty Ltd        37-39 Roberts Rd   \n",
      "11  22/12/2020      Envirotech Consumables P/L    30 Carrington Street   \n",
      "12  22/12/2020                    St Margarets       417 Bourke Street   \n",
      "13  22/12/2020                  I2C Architects     137-141 Bridge Road   \n",
      "\n",
      "           City State  PostCode  Qty Scheduled  Qty Serviced Serv Type  \\\n",
      "0    Alexandria   NSW    2015.0              1             2       COL   \n",
      "1        Sydney   NSW    2000.0              1             1       FUT   \n",
      "2    Parramatta   NSW    2150.0              1             1        DE   \n",
      "3     Moorebank   NSW    2170.0              1             1       COL   \n",
      "4     Rydalmere   NSW       0.0              1             1       FUT   \n",
      "5   Seven Hills   NSW       0.0              1             1       COL   \n",
      "6   Seven Hills   NSW       0.0              1             1       COL   \n",
      "7   Seven Hills   NSW    2147.0              1             1       COL   \n",
      "8        Sydney   NSW    2000.0              1             1       COL   \n",
      "9     Greenacre   NSW    2190.0              1             1       FUT   \n",
      "10    Greenacre   NSW    2190.0              1             1       FUT   \n",
      "11       Sydney   NSW    2000.0              1             1       COL   \n",
      "12  Surry Hills   NSW    2010.0              3             3        DE   \n",
      "13        Glebe   NSW    2037.0              1             1       COL   \n",
      "\n",
      "    Bin Volume Status Truck number Route number       Waste Type   Price  \n",
      "0         0.66      C       XN65IJ        RL6-2        Cardboard   11.00  \n",
      "1         0.24      F       XN97FC        RLC-2         Comingle   11.00  \n",
      "2         0.66      C       CV50EC        BIN-2    General Waste    0.00  \n",
      "3         1.50      C       CM97HV        FLG-2    General Waste  108.46  \n",
      "4         0.66      F       XN23KQ        RL2-2    General Waste   13.20  \n",
      "5         1.10      C       AB40PW        SWG-2    General Waste   62.39  \n",
      "6         1.10      C       CF48ED        HYG-2        Cardboard    5.69  \n",
      "7         1.10      C       XPL658        CBK-2         Comingle   22.73  \n",
      "8         0.66      C       CJ65PS        BR2-2    General Waste   34.58  \n",
      "9         0.66      F       XN13KR        RLI-2    General Waste   13.20  \n",
      "10        0.66      F       XN97FC        RLC-2         Comingle   11.00  \n",
      "11        0.24      C       BY46TO        RL9-2    General Waste   26.25  \n",
      "12        1.10      C       CV50EC        BIN-2  Paper/Cardboard    0.00  \n",
      "13        0.24      R          SHR        SHR-2       Secure Bin   45.19  \n"
     ]
    }
   ],
   "source": [
    "import pyodbc as odbc\n",
    "import pandas as pd\n",
    "import math\n",
    "import numpy as np\n",
    "\n",
    "df = pd.read_csv(\"../../dataVault/Dec_20/df_test2.csv\") \n",
    "\n",
    "# top_three_rows = df.head()\n",
    "df1 = df.replace(np.nan, None, regex=True)\n",
    "df2 = df.fillna(0)\n",
    "\n",
    "\n",
    "print(df2)\n"
   ]
  }
 ],
 "metadata": {
  "celltoolbar": "Raw Cell Format",
  "kernelspec": {
   "display_name": "Python 3",
   "language": "python",
   "name": "python3"
  },
  "language_info": {
   "codemirror_mode": {
    "name": "ipython",
    "version": 3
   },
   "file_extension": ".py",
   "mimetype": "text/x-python",
   "name": "python",
   "nbconvert_exporter": "python",
   "pygments_lexer": "ipython3",
   "version": "3.8.5"
  }
 },
 "nbformat": 4,
 "nbformat_minor": 4
}
