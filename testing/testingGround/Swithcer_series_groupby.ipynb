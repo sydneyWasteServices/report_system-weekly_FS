{
 "cells": [
  {
   "cell_type": "code",
   "execution_count": 1,
   "metadata": {},
   "outputs": [],
   "source": [
    "import pandas as pd\n",
    "import numpy as np\n",
    "import re"
   ]
  },
  {
   "cell_type": "code",
   "execution_count": 4,
   "metadata": {},
   "outputs": [],
   "source": [
    "path = \"../../dataVault/waste_edge_booking_data/27.1.2021_2.2.2021.csv\"\n",
    "# 27.1.2021_2.2.2021\n",
    "df = pd.read_csv(path, dtype={\"Schd Time Start\" : str, \"PO\" : str})"
   ]
  },
  {
   "cell_type": "code",
   "execution_count": 5,
   "metadata": {},
   "outputs": [],
   "source": [
    "df['Route number'] = df['Route number'].astype('str')\n",
    "df[['Route number', 'weekday']] = df['Route number'].str.split('-',1,expand=True)"
   ]
  },
  {
   "cell_type": "code",
   "execution_count": 27,
   "metadata": {},
   "outputs": [],
   "source": [
    "def rev_type_hardcode(rev_type: str):\n",
    "        switcher = {\n",
    "            'total': 'total',\n",
    "            'general_waste': ['HOOK1', 'BR1', 'BR2', 'BR3', 'FL2', 'FLG', 'RL1', 'RL2', 'RL4', 'RL7', 'RL9', 'RLD', 'RLE', 'RLH', 'RLI', 'RLJ', 'RLK', 'SWG', 'AUSSKIP'],\n",
    "            'cardboard': ['GRIMA', 'APR', 'FLP', 'HYG', 'RED', 'RL5', 'RL6', 'RL8', 'RLP', 'RLR', 'SWP'],\n",
    "            'comingled': ['CBK', 'RLC', 'RLG', 'DOY'],\n",
    "            'subContractor': ['SUB', 'JJT', 'ALLMED', 'BIN', 'CKG', 'CLN', 'GRACE', 'JJR', 'OWE', 'REM', 'REP', 'REQ', 'RRNW', 'RRR', 'SHR', 'SPD', 'SUE', 'URM', 'VEO', 'VEOACT', 'VTG'],\n",
    "            'uos': ['NEPCB', 'UOSCB', 'UOSCO', 'UOSGW', 'CMDCB', 'CMDGW', 'CUMCB', 'CUMGW', 'NEPGW']\n",
    "        }\n",
    "        rev_routes = switcher.get(rev_type, \"invalid entry\")\n",
    "        return rev_routes\n"
   ]
  },
  {
   "cell_type": "code",
   "execution_count": 41,
   "metadata": {},
   "outputs": [
    {
     "data": {
      "text/plain": [
       "Route number\n",
       "NEPCB        1.14\n",
       "UOSCB     1332.60\n",
       "UOSCO      771.49\n",
       "UOSGW    19367.79\n",
       "CMDCB       30.87\n",
       "CMDGW     1152.41\n",
       "CUMCB        6.86\n",
       "CUMGW      817.10\n",
       "NEPGW       73.61\n",
       "Name: Price, dtype: float64"
      ]
     },
     "execution_count": 41,
     "metadata": {},
     "output_type": "execute_result"
    }
   ],
   "source": [
    "df['Date'] = pd.to_datetime(df['Date'],format='%d/%m/%y')\n",
    "df['Date'] = pd.DatetimeIndex(df['Date'])\n",
    "df.set_index(df['Date'], inplace=True)\n",
    "df['Date'].dtype\n",
    "\n",
    "subContractor = rev_type_hardcode('subContractor')\n",
    "uos = rev_type_hardcode('uos')\n",
    "\n",
    "df_weekly_groups = df.resample(\"7D\")\n",
    "date_key = list(df_weekly_groups.groups.keys())\n",
    "\n",
    "current_week_df = df_weekly_groups.get_group(date_key[0])\n",
    "uos_rows = current_week_df['Route number'].isin(uos)\n",
    "\n",
    "current_week_df[uos_rows]\n",
    "\n",
    "\n",
    "result = (current_week_df\n",
    "     .pipe(lambda data : data.groupby('Route number').Price.sum())\n",
    "     .pipe(lambda data : data.filter(uos))\n",
    "#      .pipe(lambda data : data.sum())\n",
    ")\n",
    "\n",
    "result \n",
    "\n"
   ]
  },
  {
   "cell_type": "code",
   "execution_count": null,
   "metadata": {},
   "outputs": [],
   "source": [
    "# df_weekly_groups.get_group(df_weekly_groups_keys[0])\n",
    "\n",
    "\n",
    "# df_weekly_groups_keys = list(df_weekly_groups_keys)\n",
    "# df_first_week = df.resample(\"7D\").get_group(df_weekly_groups_keys[0])\n",
    "\n",
    "# df_first_week\n",
    "\n",
    "# (df_first_week\n",
    "#      .groupby('Route number')\n",
    "#      .pipe(lambda x : x.Price.sum())\n",
    "#      .pipe(lambda x : x.filter(items=uos))\n",
    "#      .pipe(lambda x : x.sum())\n",
    "# )\n",
    "\n",
    "\n",
    "\n",
    "# \n",
    "\n",
    "# df.groupby('group')\n",
    "#    .pipe(f)\n",
    "#    .pipe(g, arg1=a)\n",
    "#    .pipe(h, arg2=b, arg3=c))  \n",
    "\n",
    "\n",
    "# After date time index it must sort by sort_index\n",
    "# sort_index\n",
    "\n",
    "# .reset_index opposite to set_index \n",
    "\n",
    "\n",
    "# df.sort_values(by=['Date'], inplace=True, ascending=False)\n",
    "# df.resample(\"7D\")\n",
    "# route_num_groups = df.groupby('Route number').Price.sum()\n",
    "# uos = rev_type_hardcode('uos')\n",
    "# sub = rev_type_hardcode('subContractor')\n",
    "# route_num_groups.filter(items=uos).getgroup\n",
    "\n",
    "# Start time\n",
    "# origin{‘epoch’, ‘start’, ‘start_day’}, Timestamp or str, default ‘start_day’\n",
    "# The timestamp on which to adjust the grouping. The timezone of origin must match the timezone of the index. If a timestamp is not used, these values are also supported:\n",
    "\n",
    "# ‘epoch’: origin is 1970-01-01\n",
    "\n",
    "# ‘start’: origin is the first value of the timeseries\n",
    "\n",
    "# ‘start_day’: origin is the first day at midnight of the timeseries\n",
    "\n",
    "# New in version 1.1.0."
   ]
  },
  {
   "cell_type": "code",
   "execution_count": null,
   "metadata": {},
   "outputs": [],
   "source": []
  },
  {
   "cell_type": "code",
   "execution_count": null,
   "metadata": {},
   "outputs": [],
   "source": []
  }
 ],
 "metadata": {
  "kernelspec": {
   "display_name": "Python 3",
   "language": "python",
   "name": "python3"
  },
  "language_info": {
   "codemirror_mode": {
    "name": "ipython",
    "version": 3
   },
   "file_extension": ".py",
   "mimetype": "text/x-python",
   "name": "python",
   "nbconvert_exporter": "python",
   "pygments_lexer": "ipython3",
   "version": "3.8.5"
  }
 },
 "nbformat": 4,
 "nbformat_minor": 4
}
